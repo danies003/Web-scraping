{
 "cells": [
  {
   "cell_type": "markdown",
   "metadata": {},
   "source": [
    "# Twitter API"
   ]
  },
  {
   "cell_type": "code",
   "execution_count": 1,
   "metadata": {
    "scrolled": false
   },
   "outputs": [
    {
     "name": "stderr",
     "output_type": "stream",
     "text": [
      "/Users/danies/anaconda3/lib/python3.6/site-packages/requests/__init__.py:80: RequestsDependencyWarning: urllib3 (1.26.2) or chardet (3.0.4) doesn't match a supported version!\n",
      "  RequestsDependencyWarning)\n"
     ]
    }
   ],
   "source": [
    "from tweepy import OAuthHandler\n",
    "from tweepy.streaming import StreamListener\n",
    "import tweepy\n",
    "import json\n",
    "import pandas as pd\n",
    "import csv\n",
    "import re\n",
    "\n",
    "\n",
    "import string\n",
    "\n",
    "import os\n",
    "import time\n",
    "\n",
    "consumer_key = \"your key\"\n",
    "consumer_secret = \"your secret\"\n",
    "access_token = \"your token\"\n",
    "access_token_secret = \"your token secret\"\n",
    "auth = tweepy.OAuthHandler(consumer_key, consumer_secret)\n",
    "auth.set_access_token(access_token, access_token_secret)\n",
    "api = tweepy.API(auth,wait_on_rate_limit=True)\n"
   ]
  },
  {
   "cell_type": "markdown",
   "metadata": {},
   "source": [
    "# Twitter User Name You Want to Download Image\n"
   ]
  },
  {
   "cell_type": "code",
   "execution_count": null,
   "metadata": {},
   "outputs": [],
   "source": [
    "username = input('User Name: ')\n",
    "count = 500\n",
    "\n",
    "tweets = tweepy.Cursor(api.user_timeline,id=username).items(count)"
   ]
  },
  {
   "cell_type": "markdown",
   "metadata": {},
   "source": [
    "# Twitter Videos"
   ]
  },
  {
   "cell_type": "code",
   "execution_count": null,
   "metadata": {},
   "outputs": [],
   "source": [
    "test = open(\"the directory you want to save video\",\"w\",encoding='UTF-8')\n",
    "video_info={}\n",
    "j=0 \n",
    "q=0 \n",
    "vid=[]\n",
    "for i in tweets:\n",
    "    my_json =i._json  \n",
    "    \n",
    "    if \"extended_entities\" in my_json:\n",
    "        for k, v in my_json[\"extended_entities\"].items():\n",
    "                for x in v:\n",
    "                    for t, s in x.items():\n",
    "                        if t==\"video_info\":\n",
    "                            video_info=s\n",
    "                            for dicts in video_info[\"variants\"]:\n",
    "                                vid.append(dicts[\"url\"])\n",
    "for a in range(0,len(vid),4): \n",
    "    q+=1\n",
    "    print(\"Number\",q,\":\",vid[a])\n",
    "    test.write(\"%\\n\"\"第 {} 張: {} \\n\".format(q,dicts[\"url\"])) \n",
    "    #vid=requests.get(dicts[\"url\"])\n",
    "    #vid2 = vid.content\n",
    "    #vid_out = open(\"/Users/danies/Desktop/untitled folder/\"+str(q)+\".mp4\",'wb')\n",
    "    #vid_out.write(img2)\n",
    "    #vid_out.close()\n",
    "        \n",
    "test.close()"
   ]
  },
  {
   "cell_type": "markdown",
   "metadata": {},
   "source": [
    "# Twitter Images"
   ]
  },
  {
   "cell_type": "code",
   "execution_count": null,
   "metadata": {},
   "outputs": [],
   "source": [
    "import requests\n",
    "import json\n",
    "\n",
    "import io\n",
    "from PIL import Image\n",
    "j=0 #為了印頁數\n",
    "q=0 #為了印張數 \n",
    "tweets = tweepy.Cursor(api.user_timeline,id=username).items(count)\n",
    "test = open(\"the directory you want to save image\",\"w\",encoding='UTF-8')\n",
    "\n",
    "\n",
    "for i in tweets:\n",
    "    my_json =i._json     \n",
    "    for k, v in my_json[\"entities\"].items():\n",
    "        for x in v:\n",
    "            for t, s in x.items() :\n",
    "                if str(s).startswith(\"https://\") and str(s).endswith(\".jpg\"):\n",
    "                    q+=1\n",
    "                    print(\"第\",q,\"張:\",s)\n",
    "                    test.write(\"%\\n\"\"第 {} 張: {} \\n\".format(q,s)) \n",
    "                    pic=requests.get(s)\n",
    "                    img2 = pic.content\n",
    "                    \n",
    "                    image_bytes = io.BytesIO(pic.content)\n",
    "\n",
    "                    img = PIL.Image.open(image_bytes)\n",
    "                    new_width  = 200\n",
    "                    new_height = 300\n",
    "                    img = img.resize((new_width, new_height), Image.ANTIALIAS)\n",
    "                    display(img)\n",
    "                    pic_out = open(\"/Users/danies/Desktop/untitled folder/\"+str(q)+\".jpg\",'wb')\n",
    "                    pic_out.write(img2)\n",
    "                    pic_out.close()\n",
    "\n",
    "test.close()\n",
    "\n",
    "\n"
   ]
  },
  {
   "cell_type": "code",
   "execution_count": null,
   "metadata": {},
   "outputs": [],
   "source": []
  }
 ],
 "metadata": {
  "kernelspec": {
   "display_name": "Python 3",
   "language": "python",
   "name": "python3"
  },
  "language_info": {
   "codemirror_mode": {
    "name": "ipython",
    "version": 3
   },
   "file_extension": ".py",
   "mimetype": "text/x-python",
   "name": "python",
   "nbconvert_exporter": "python",
   "pygments_lexer": "ipython3",
   "version": "3.6.5"
  }
 },
 "nbformat": 4,
 "nbformat_minor": 2
}
